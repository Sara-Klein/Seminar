{
 "cells": [
  {
   "cell_type": "code",
   "execution_count": 1,
   "metadata": {},
   "outputs": [],
   "source": [
    "import numpy as np\n",
    "from scipy.special import softmax\n",
    "import math\n",
    "from numpy.random import default_rng\n",
    "import matplotlib \n",
    "import matplotlib.pyplot as plt\n",
    "time = 5\n",
    "states = [0, 1]\n",
    "actions = [0, 1, 2, 3]\n",
    "# transition = np.array([[0.5,0.6,0.7,0.8],\n",
    "#         [0.7, 0.8, 0.9, 1]])\n",
    "transition = np.array([[0.8,0.7,0.6,0.5],\n",
    "        [1, 0.9, 0.8, 0.7]])\n",
    "theta_0 = np.ones(4)\n",
    "rewards = np.array([[1,2,3,4], [5,6,7,8]])\n",
    "#rewards = np.array([[0.5,1,1.5,2],\n",
    " #                 [2.5,3,3.5,4]])\n",
    "M = 2 \n",
    "sigma_0 = 1\n",
    "eps_0 = 1\n",
    "r = 2\n",
    "rho = (1/2) * (1+r)\n",
    "L = 5\n",
    "gamma_0 = (1+r)/L\n",
    "rng = default_rng()"
   ]
  },
  {
   "cell_type": "code",
   "execution_count": 4,
   "metadata": {},
   "outputs": [
    {
     "data": {
      "text/plain": [
       "array([5, 6, 7, 8])"
      ]
     },
     "execution_count": 4,
     "metadata": {},
     "output_type": "execute_result"
    }
   ],
   "source": [
    "rewards[1,:]"
   ]
  },
  {
   "cell_type": "code",
   "execution_count": 3,
   "metadata": {},
   "outputs": [],
   "source": [
    "def gamma_1(theta):\n",
    "    t = np.arange(time)\n",
    "    f = t*((4*np.max(softmax(theta)))**t)\n",
    "    return (4*np.max(softmax(theta)))**(time) * np.sum(f) * (1+M)**(1/2) * (np.max(np.abs(rewards)))\n",
    "\n",
    "#brauchen wir im Moment nicht"
   ]
  },
  {
   "cell_type": "code",
   "execution_count": 4,
   "metadata": {},
   "outputs": [
    {
     "data": {
      "text/plain": [
       "array([[ 0.75, -0.25, -0.25, -0.25],\n",
       "       [-0.25,  0.75, -0.25, -0.25],\n",
       "       [ 0.75, -0.25, -0.25, -0.25],\n",
       "       [ 0.75, -0.25, -0.25, -0.25]])"
      ]
     },
     "execution_count": 4,
     "metadata": {},
     "output_type": "execute_result"
    }
   ],
   "source": [
    "def grad_soft(theta):\n",
    "    return np.eye(len(theta),len(theta))- np.matmul(softmax(theta).reshape(len(theta),1), np.ones((1,len(theta))))\n",
    "\n",
    "grad_soft(theta_0)[[0,1,0,0]]"
   ]
  },
  {
   "cell_type": "code",
   "execution_count": 5,
   "metadata": {},
   "outputs": [],
   "source": [
    "def sample(theta, t, state, action):\n",
    "    if action == None:\n",
    "        trajectory = [state]\n",
    "        for n in range((time-t)):\n",
    "            action = np.random.choice(actions, p=softmax(theta), size=1)[0]\n",
    "            trajectory.append(action)\n",
    "            state = rng.binomial(1, p=(1-transition[state, action]), size=1)[0]\n",
    "            trajectory.append(state)\n",
    "    else:\n",
    "        trajectory = [state, action]\n",
    "        for n in range((time-t)):\n",
    "            state = rng.binomial(1, p=(1-transition[state, action]), size=1)[0]\n",
    "            trajectory.append(state)\n",
    "            action = np.random.choice(actions, p=softmax(theta), size=1)[0]\n",
    "            trajectory.append(action)\n",
    "\n",
    "    return trajectory"
   ]
  },
  {
   "cell_type": "code",
   "execution_count": 9,
   "metadata": {},
   "outputs": [
    {
     "name": "stdout",
     "output_type": "stream",
     "text": [
      "[1. 1. 1. 1.]\n",
      "1\n",
      "1\n",
      "1\n",
      "[-4.625 10.375 -0.725 -1.025]\n",
      "2\n",
      "2\n",
      "4\n",
      "2\n",
      "[-4.62500007 10.375      -0.72500003 -1.02500004]\n",
      "3\n",
      "3\n",
      "14\n",
      "7\n",
      "4\n",
      "[-4.62504705 10.375      -0.7250705  -1.02507051]\n",
      "4\n",
      "3\n",
      "24\n",
      "12\n",
      "6\n",
      "[-4.62571447 10.37500001 -0.72538849 -1.02575114]\n",
      "5\n",
      "4\n",
      "50\n",
      "25\n",
      "13\n",
      "7\n",
      "[-4.62622691 10.37500003 -0.7258174  -1.0261811 ]\n",
      "6\n",
      "4\n",
      "72\n",
      "36\n",
      "18\n",
      "9\n",
      "[-4.62636331 10.37500003 -0.72595576 -1.02628368]\n",
      "7\n",
      "5\n",
      "123\n"
     ]
    },
    {
     "ename": "KeyboardInterrupt",
     "evalue": "",
     "output_type": "error",
     "traceback": [
      "\u001b[0;31m---------------------------------------------------------------------------\u001b[0m",
      "\u001b[0;31mKeyboardInterrupt\u001b[0m                         Traceback (most recent call last)",
      "Input \u001b[0;32mIn [9]\u001b[0m, in \u001b[0;36m<module>\u001b[0;34m\u001b[0m\n\u001b[1;32m     24\u001b[0m rew_to_go \u001b[38;5;241m=\u001b[39m \u001b[38;5;241m0\u001b[39m\n\u001b[1;32m     25\u001b[0m \u001b[38;5;28;01mfor\u001b[39;00m u \u001b[38;5;129;01min\u001b[39;00m \u001b[38;5;28mrange\u001b[39m(M\u001b[38;5;241m*\u001b[39m\u001b[38;5;241m*\u001b[39mk):\n\u001b[0;32m---> 26\u001b[0m     t_to_go \u001b[38;5;241m=\u001b[39m \u001b[43msample\u001b[49m\u001b[43m(\u001b[49m\u001b[43mtheta\u001b[49m\u001b[43m,\u001b[49m\u001b[43m \u001b[49m\u001b[43mt\u001b[49m\u001b[43m,\u001b[49m\u001b[43m \u001b[49m\u001b[43mstate\u001b[49m\u001b[38;5;241;43m=\u001b[39;49m\u001b[43mstate\u001b[49m\u001b[43m,\u001b[49m\u001b[43m \u001b[49m\u001b[43maction\u001b[49m\u001b[38;5;241;43m=\u001b[39;49m\u001b[43maction\u001b[49m\u001b[43m)\u001b[49m\n\u001b[1;32m     27\u001b[0m     rew \u001b[38;5;241m=\u001b[39m np\u001b[38;5;241m.\u001b[39marray(t_to_go)\u001b[38;5;241m.\u001b[39mreshape(\u001b[38;5;28mint\u001b[39m((\u001b[38;5;28mlen\u001b[39m(t_to_go))\u001b[38;5;241m/\u001b[39m\u001b[38;5;241m2\u001b[39m),\u001b[38;5;241m2\u001b[39m)\n\u001b[1;32m     28\u001b[0m     acts2\u001b[38;5;241m=\u001b[39m\u001b[38;5;28mlist\u001b[39m()\n",
      "Input \u001b[0;32mIn [4]\u001b[0m, in \u001b[0;36msample\u001b[0;34m(theta, t, state, action)\u001b[0m\n\u001b[1;32m     12\u001b[0m         state \u001b[38;5;241m=\u001b[39m rng\u001b[38;5;241m.\u001b[39mbinomial(\u001b[38;5;241m1\u001b[39m, p\u001b[38;5;241m=\u001b[39m(\u001b[38;5;241m1\u001b[39m\u001b[38;5;241m-\u001b[39mtransition[state, action]), size\u001b[38;5;241m=\u001b[39m\u001b[38;5;241m1\u001b[39m)[\u001b[38;5;241m0\u001b[39m]\n\u001b[1;32m     13\u001b[0m         trajectory\u001b[38;5;241m.\u001b[39mappend(state)\n\u001b[0;32m---> 14\u001b[0m         action \u001b[38;5;241m=\u001b[39m \u001b[43mnp\u001b[49m\u001b[38;5;241;43m.\u001b[39;49m\u001b[43mrandom\u001b[49m\u001b[38;5;241;43m.\u001b[39;49m\u001b[43mchoice\u001b[49m\u001b[43m(\u001b[49m\u001b[43mactions\u001b[49m\u001b[43m,\u001b[49m\u001b[43m \u001b[49m\u001b[43mp\u001b[49m\u001b[38;5;241;43m=\u001b[39;49m\u001b[43msoftmax\u001b[49m\u001b[43m(\u001b[49m\u001b[43mtheta\u001b[49m\u001b[43m)\u001b[49m\u001b[43m,\u001b[49m\u001b[43m \u001b[49m\u001b[43msize\u001b[49m\u001b[38;5;241;43m=\u001b[39;49m\u001b[38;5;241;43m1\u001b[39;49m\u001b[43m)\u001b[49m[\u001b[38;5;241m0\u001b[39m]\n\u001b[1;32m     15\u001b[0m         trajectory\u001b[38;5;241m.\u001b[39mappend(action)\n\u001b[1;32m     17\u001b[0m \u001b[38;5;28;01mreturn\u001b[39;00m trajectory\n",
      "\u001b[0;31mKeyboardInterrupt\u001b[0m: "
     ]
    }
   ],
   "source": [
    "#Das ist der Code, der zur Theorie passt, aber viel zu langsam ist\n",
    "theta = theta_0\n",
    "print(theta)\n",
    "for n in range(1,100):\n",
    "    print(n)\n",
    "    eps_n = eps_0 * 1/(n**rho)\n",
    "    sigma_n = 1/(n**r) * sigma_0\n",
    "    gamma_n = gamma_0 * 1/n\n",
    "    m_n = max(math.ceil((np.log(1/eps_n)) / np.log(M)), 1)\n",
    "    print(m_n)\n",
    "    L_m = np.zeros(4)\n",
    "    for k in range(1,m_n+1):\n",
    "        N_nk = math.ceil((1/np.sqrt(sigma_n))**2 * m_n * M**(-k))\n",
    "        print(N_nk)\n",
    "        L_k = np.zeros(4)\n",
    "        for l in range(1,N_nk+1):\n",
    "            traject = sample(theta_0,t=0, state=0, action=None)\n",
    "            acts = list()\n",
    "            Q_k = list()\n",
    "            Q_k2 = list()\n",
    "            for t in range(time-1):\n",
    "                state = traject[2*t]\n",
    "                action = traject[2*t+1]\n",
    "                acts.append(action)\n",
    "                rew_to_go = 0\n",
    "                for u in range(M**k):\n",
    "                    t_to_go = sample(theta, t, state=state, action=action)\n",
    "                    rew = np.array(t_to_go).reshape(int((len(t_to_go))/2),2)\n",
    "                    acts2=list()\n",
    "                    for tup in rew[1:]:\n",
    "                        rew_to_go += rewards[tup[0],tup[1]]\n",
    "                        acts2.append(tup[1])\n",
    "                if k ==1:\n",
    "                    Q_k.append(1/(M**k) * rew_to_go)\n",
    "                    Q_k2.append(0)\n",
    "                else: \n",
    "                    Q_k.append(1/(M**k) * rew_to_go)\n",
    "                    rew_to_go2 = 0\n",
    "                    for u in range(M**(k-1)):\n",
    "                        t_to_go = sample(theta, t, state=state, action=action)\n",
    "                        rew = np.array(t_to_go).reshape(int((len(t_to_go))/2),2)\n",
    "                        acts3 = list()\n",
    "                        for tup in rew[1:]:\n",
    "                            rew_to_go2 += rewards[tup[0],tup[1]]\n",
    "                            acts3.append(tup[1])\n",
    "                    Q_k2.append(1/(M**(k-1)) * rew_to_go2)\n",
    "            L_k = L_k + np.prod(4*softmax(theta)[acts]) * np.sum(np.multiply(grad_soft(theta)[acts],(np.array(Q_k)-np.array(Q_k2))[:,np.newaxis]), axis=0)\n",
    "        L_m = L_m +((1/N_nk) * L_k)\n",
    "    \n",
    "    theta = theta + gamma_n * L_m\n",
    "    print(theta)"
   ]
  },
  {
   "cell_type": "code",
   "execution_count": 67,
   "metadata": {},
   "outputs": [
    {
     "name": "stdout",
     "output_type": "stream",
     "text": [
      "[1. 1. 1. 1.]\n",
      "2\n",
      "1000\n",
      "500\n"
     ]
    },
    {
     "data": {
      "image/png": "[encoded data removed]",
      "text/plain": [
       "<Figure size 432x288 with 1 Axes>"
      ]
     },
     "metadata": {
      "needs_background": "light"
     },
     "output_type": "display_data"
    },
    {
     "name": "stdout",
     "output_type": "stream",
     "text": [
      "1.3322676295501878e-15\n",
      "[0.007075 0.404875 1.180675 2.407375]\n",
      "4\n",
      "80\n",
      "40\n",
      "20\n",
      "10\n"
     ]
    },
    {
     "data": {
      "image/png": "[encoded data removed]",
      "text/plain": [
       "<Figure size 432x288 with 1 Axes>"
      ]
     },
     "metadata": {
      "needs_background": "light"
     },
     "output_type": "display_data"
    },
    {
     "name": "stdout",
     "output_type": "stream",
     "text": [
      "-85.14825488275494\n",
      "[-11.45982537 -10.63827537  -6.69372537   7.24734963]\n",
      "6\n",
      "270\n",
      "135\n",
      "68\n",
      "34\n",
      "17\n",
      "9\n"
     ]
    },
    {
     "data": {
      "image/png": "[encoded data removed]",
      "text/plain": [
       "<Figure size 432x288 with 1 Axes>"
      ]
     },
     "metadata": {
      "needs_background": "light"
     },
     "output_type": "display_data"
    },
    {
     "name": "stdout",
     "output_type": "stream",
     "text": [
      "-298.68299271671947\n",
      "[-31.3720309  -30.5504809  -26.6059309    7.24736769]\n",
      "6\n",
      "480\n",
      "240\n",
      "120\n",
      "60\n",
      "30\n",
      "15\n"
     ]
    },
    {
     "data": {
      "image/png": "[encoded data removed]",
      "text/plain": [
       "<Figure size 432x288 with 1 Axes>"
      ]
     },
     "metadata": {
      "needs_background": "light"
     },
     "output_type": "display_data"
    },
    {
     "name": "stdout",
     "output_type": "stream",
     "text": [
      "-303.34999999999974\n",
      "[-46.5395309  -45.7179809  -41.7734309    7.24736769]\n"
     ]
    }
   ],
   "source": [
    "#Das ist unser Code\n",
    "theta = theta_0\n",
    "print(theta)\n",
    "for n in range(1,5): # 5 frei gewählt, um schnelle Resultate zu sehen\n",
    "    #print(n)\n",
    "    eps_n = eps_0 * 1/(n**rho)\n",
    "    sigma_n = 1/(n**r) * sigma_0\n",
    "    gamma_n = gamma_0 * 1/n\n",
    "    m_n = 2*max(math.ceil((np.log(1/eps_n)) / np.log(M)), 1)\n",
    "    print(m_n)\n",
    "    L_m = np.zeros(4)\n",
    "    total_acts = list()\n",
    "    for k in range(1,m_n+1):\n",
    "        #N_nk = 100* math.ceil((1/np.sqrt(sigma_n))**2 * m_n * M**(-k))\n",
    "        if n ==1: \n",
    "            N_nk = math.ceil(1000* (1/np.sqrt(sigma_n))**2 * m_n * M**(-k))\n",
    "        else: \n",
    "            N_nk = math.ceil(10*(1/np.sqrt(sigma_n))**2 * m_n * M**(-k))\n",
    "        print(N_nk)\n",
    "        L_k = np.zeros(4)\n",
    "        for l in range(1,N_nk+1):\n",
    "            traject = sample(theta,t=0, state=0, action=None)\n",
    "            acts = list()\n",
    "            Q_k = list()\n",
    "            Q_k2 = list()\n",
    "            for t in range(time-1):\n",
    "                state = traject[2*t]\n",
    "                action = traject[2*t+1]\n",
    "                acts.append(action)\n",
    "                rew_to_go = 0\n",
    "                for u in range(M**k):\n",
    "                    t_to_go = sample(theta, t, state=state, action=action)\n",
    "                    rew = np.array(t_to_go).reshape(int((len(t_to_go))/2),2)\n",
    "                    for tup in rew[0:]:\n",
    "                        rew_to_go += rewards[tup[0],tup[1]]\n",
    "                if k ==1:\n",
    "                    Q_k.append(1/(M**k) * rew_to_go)   \n",
    "                    Q_k2.append(0)\n",
    "                else: \n",
    "                    rew_to_go2 = 0\n",
    "                    for u in range(M**(k-1)):\n",
    "                        t_to_go = sample(theta, t, state=state, action=action)\n",
    "                        rew = np.array(t_to_go).reshape(int((len(t_to_go))/2),2)\n",
    "                        for tup in rew[0:]:\n",
    "                            print(f\"Reward: {rewards[tup[0],tup[1]]}\")\n",
    "                            rew_to_go2 += rewards[tup[0],tup[1]]\n",
    "                    Q_k.append(1/(M**k) * rew_to_go)\n",
    "                    Q_k2.append(1/(M**(k-1)) * rew_to_go2)\n",
    "            total_acts.append(acts)  \n",
    "            L_k = L_k +  np.sum(np.multiply(grad_soft(theta)[acts],(np.array(Q_k)-np.array(Q_k2))[:,np.newaxis]), axis=0)\n",
    "        L_m = L_m +((1/N_nk) * L_k)\n",
    "    plt.hist(np.array(total_acts).reshape(np.product(np.shape(total_acts))))\n",
    "    plt.show()\n",
    "    print(np.sum(L_m))\n",
    "    theta = theta + gamma_n * L_m\n",
    "    print(theta)"
   ]
  },
  {
   "cell_type": "code",
   "execution_count": 63,
   "metadata": {},
   "outputs": [
    {
     "name": "stdout",
     "output_type": "stream",
     "text": [
      "[1. 1. 1. 1.]\n",
      "1\n"
     ]
    },
    {
     "data": {
      "image/png": "[encoded data removed]",
      "text/plain": [
       "<Figure size 432x288 with 1 Axes>"
      ]
     },
     "metadata": {
      "needs_background": "light"
     },
     "output_type": "display_data"
    },
    {
     "name": "stdout",
     "output_type": "stream",
     "text": [
      "2.708944180085382e-14\n",
      "[-0.27915   0.62595   1.449675  2.203525]\n",
      "2\n"
     ]
    },
    {
     "data": {
      "image/png": "[encoded data removed]",
      "text/plain": [
       "<Figure size 432x288 with 1 Axes>"
      ]
     },
     "metadata": {
      "needs_background": "light"
     },
     "output_type": "display_data"
    },
    {
     "name": "stdout",
     "output_type": "stream",
     "text": [
      "-61.66597403057005\n",
      "[-10.58084805  -7.8297168   -2.98646055   6.8972332 ]\n",
      "3\n"
     ]
    },
    {
     "data": {
      "image/png": "[encoded data removed]",
      "text/plain": [
       "<Figure size 432x288 with 1 Axes>"
      ]
     },
     "metadata": {
      "needs_background": "light"
     },
     "output_type": "display_data"
    },
    {
     "name": "stdout",
     "output_type": "stream",
     "text": [
      "-322.988434907524\n",
      "[-32.11399996 -29.36286871 -24.51895108   6.89834055]\n",
      "4\n"
     ]
    },
    {
     "data": {
      "image/png": "[encoded data removed]",
      "text/plain": [
       "<Figure size 432x288 with 1 Axes>"
      ]
     },
     "metadata": {
      "needs_background": "light"
     },
     "output_type": "display_data"
    },
    {
     "name": "stdout",
     "output_type": "stream",
     "text": [
      "-323.5089285714465\n",
      "[-48.28944638 -45.53831513 -40.69439751   6.89834055]\n"
     ]
    }
   ],
   "source": [
    "# Das ist der Standard Code ohne Multilevel\n",
    "theta = theta_0\n",
    "print(theta)\n",
    "for n in range(1,5):\n",
    "    print(n)\n",
    "    eps_n = eps_0 * 1/(n**rho)\n",
    "    sigma_n = 1/(n**r) * sigma_0\n",
    "    gamma_n = gamma_0 * 1/n\n",
    "    m_n = 2*max(math.ceil((np.log(1/eps_n)) / np.log(M)), 1)\n",
    "    L_m = np.zeros(4)\n",
    "    total_acts = list()\n",
    "    if n==1:\n",
    "        J = math.ceil(m_n * (1/np.sqrt(sigma_n))**2 * ((time-1)) * (m_n+1) * 1000)\n",
    "    else:\n",
    "        J = math.ceil(m_n * (1/np.sqrt(sigma_n))**2 * ((time-1)) * (m_n+1) * 10)\n",
    "    for k in range(1,J):\n",
    "        traject = sample(theta,t=0, state=0, action=None)\n",
    "        acts = list()\n",
    "        for t in range(time-1):\n",
    "                state = traject[2*t]\n",
    "                action = traject[2*t+1]\n",
    "                acts.append(action)\n",
    "        rew = np.array(traject[:-1]).reshape(int((len(traject[:-1]))/2),2)\n",
    "        reward = 0\n",
    "        for tup in rew[0:]:\n",
    "                reward += rewards[tup[0],tup[1]]\n",
    "        L_m = L_m +  (1/J) * np.sum((grad_soft(theta)[acts])*np.sum(reward), axis=0)\n",
    "        total_acts.append(acts)\n",
    "    \n",
    "    plt.hist(np.array(total_acts).reshape(np.product(np.shape(total_acts))))\n",
    "    plt.show()\n",
    "    print(np.sum(L_m))    \n",
    "    theta = theta + gamma_n * L_m\n",
    "    print(theta)"
   ]
  },
  {
   "cell_type": "markdown",
   "metadata": {},
   "source": []
  },
  {
   "cell_type": "code",
   "execution_count": 59,
   "metadata": {},
   "outputs": [
    {
     "name": "stdout",
     "output_type": "stream",
     "text": [
      "[1. 1. 1. 1.]\n",
      "1\n",
      "1.3322676295501878e-15\n",
      "[-0.2348  0.8284  1.3426  2.0638]\n",
      "2\n",
      "-48.923249326635926\n",
      "[-9.36458745 -5.7016437  -2.2231062   6.61236255]\n",
      "3\n"
     ]
    },
    {
     "ename": "KeyboardInterrupt",
     "evalue": "",
     "output_type": "error",
     "traceback": [
      "\u001b[0;31m---------------------------------------------------------------------------\u001b[0m",
      "\u001b[0;31mKeyboardInterrupt\u001b[0m                         Traceback (most recent call last)",
      "Input \u001b[0;32mIn [59]\u001b[0m, in \u001b[0;36m<module>\u001b[0;34m\u001b[0m\n\u001b[1;32m     11\u001b[0m J \u001b[38;5;241m=\u001b[39m math\u001b[38;5;241m.\u001b[39mceil(\u001b[38;5;241m100\u001b[39m\u001b[38;5;241m*\u001b[39m m_n \u001b[38;5;241m*\u001b[39m (\u001b[38;5;241m1\u001b[39m\u001b[38;5;241m/\u001b[39m(sigma_n)) \u001b[38;5;241m*\u001b[39m (time\u001b[38;5;241m*\u001b[39m(time\u001b[38;5;241m-\u001b[39m\u001b[38;5;241m1\u001b[39m)))\n\u001b[1;32m     12\u001b[0m \u001b[38;5;28;01mfor\u001b[39;00m k \u001b[38;5;129;01min\u001b[39;00m \u001b[38;5;28mrange\u001b[39m(\u001b[38;5;241m1\u001b[39m,J):\n\u001b[0;32m---> 13\u001b[0m     traject \u001b[38;5;241m=\u001b[39m \u001b[43msample\u001b[49m\u001b[43m(\u001b[49m\u001b[43mtheta\u001b[49m\u001b[43m,\u001b[49m\u001b[43mt\u001b[49m\u001b[38;5;241;43m=\u001b[39;49m\u001b[38;5;241;43m0\u001b[39;49m\u001b[43m,\u001b[49m\u001b[43m \u001b[49m\u001b[43mstate\u001b[49m\u001b[38;5;241;43m=\u001b[39;49m\u001b[38;5;241;43m0\u001b[39;49m\u001b[43m,\u001b[49m\u001b[43m \u001b[49m\u001b[43maction\u001b[49m\u001b[38;5;241;43m=\u001b[39;49m\u001b[38;5;28;43;01mNone\u001b[39;49;00m\u001b[43m)\u001b[49m\n\u001b[1;32m     14\u001b[0m     acts \u001b[38;5;241m=\u001b[39m \u001b[38;5;28mlist\u001b[39m()\n\u001b[1;32m     15\u001b[0m     \u001b[38;5;28;01mfor\u001b[39;00m t \u001b[38;5;129;01min\u001b[39;00m \u001b[38;5;28mrange\u001b[39m(time\u001b[38;5;241m-\u001b[39m\u001b[38;5;241m1\u001b[39m):\n",
      "Input \u001b[0;32mIn [4]\u001b[0m, in \u001b[0;36msample\u001b[0;34m(theta, t, state, action)\u001b[0m\n\u001b[1;32m      3\u001b[0m trajectory \u001b[38;5;241m=\u001b[39m [state]\n\u001b[1;32m      4\u001b[0m \u001b[38;5;28;01mfor\u001b[39;00m n \u001b[38;5;129;01min\u001b[39;00m \u001b[38;5;28mrange\u001b[39m((time\u001b[38;5;241m-\u001b[39mt)):\n\u001b[0;32m----> 5\u001b[0m     action \u001b[38;5;241m=\u001b[39m \u001b[43mnp\u001b[49m\u001b[38;5;241;43m.\u001b[39;49m\u001b[43mrandom\u001b[49m\u001b[38;5;241;43m.\u001b[39;49m\u001b[43mchoice\u001b[49m\u001b[43m(\u001b[49m\u001b[43mactions\u001b[49m\u001b[43m,\u001b[49m\u001b[43m \u001b[49m\u001b[43mp\u001b[49m\u001b[38;5;241;43m=\u001b[39;49m\u001b[43msoftmax\u001b[49m\u001b[43m(\u001b[49m\u001b[43mtheta\u001b[49m\u001b[43m)\u001b[49m\u001b[43m,\u001b[49m\u001b[43m \u001b[49m\u001b[43msize\u001b[49m\u001b[38;5;241;43m=\u001b[39;49m\u001b[38;5;241;43m1\u001b[39;49m\u001b[43m)\u001b[49m[\u001b[38;5;241m0\u001b[39m]\n\u001b[1;32m      6\u001b[0m     trajectory\u001b[38;5;241m.\u001b[39mappend(action)\n\u001b[1;32m      7\u001b[0m     state \u001b[38;5;241m=\u001b[39m rng\u001b[38;5;241m.\u001b[39mbinomial(\u001b[38;5;241m1\u001b[39m, p\u001b[38;5;241m=\u001b[39m(\u001b[38;5;241m1\u001b[39m\u001b[38;5;241m-\u001b[39mtransition[state, action]), size\u001b[38;5;241m=\u001b[39m\u001b[38;5;241m1\u001b[39m)[\u001b[38;5;241m0\u001b[39m]\n",
      "File \u001b[0;32mmtrand.pyx:946\u001b[0m, in \u001b[0;36mnumpy.random.mtrand.RandomState.choice\u001b[0;34m()\u001b[0m\n",
      "File \u001b[0;32m<__array_function__ internals>:177\u001b[0m, in \u001b[0;36mprod\u001b[0;34m(*args, **kwargs)\u001b[0m\n",
      "\u001b[0;31mKeyboardInterrupt\u001b[0m: "
     ]
    }
   ],
   "source": [
    "theta = theta_0\n",
    "print(theta)\n",
    "for n in range(1,100):\n",
    "    print(n)\n",
    "    eps_n = eps_0 * 1/(n**rho)\n",
    "    sigma_n = 1/(n**r) * sigma_0\n",
    "    gamma_n = gamma_0 * 1/n\n",
    "    m_n = max(math.ceil((np.log(1/eps_n)) / np.log(M)), 1)\n",
    "    #print(m_n)\n",
    "    L_m = np.zeros(4)\n",
    "    J = math.ceil(100* m_n * (1/(sigma_n)) * (time*(time-1)))\n",
    "    for k in range(1,J):\n",
    "        traject = sample(theta,t=0, state=0, action=None)\n",
    "        acts = list()\n",
    "        for t in range(time-1):\n",
    "                state = traject[2*t]\n",
    "                action = traject[2*t+1]\n",
    "                acts.append(action)\n",
    "        rew = np.array(traject[:-1]).reshape(int((len(traject[:-1]))/2),2)\n",
    "        reward = 0\n",
    "        for tup in rew[0:]:\n",
    "                reward += rewards[tup[0],tup[1]]\n",
    "        L_m = L_m +  (1/J) * np.sum((grad_soft(theta)[acts])*np.sum(reward), axis=0)\n",
    "    \n",
    "    print(np.sum(L_m))    \n",
    "    theta = theta + gamma_n * L_m\n",
    "    print(theta)"
   ]
  }
 ],
 "metadata": {
  "interpreter": {
   "hash": "aee8b7b246df8f9039afb4144a1f6fd8d2ca17a180786b69acc140d282b71a49"
  },
  "kernelspec": {
   "display_name": "Python 3.10.2 64-bit",
   "language": "python",
   "name": "python3"
  },
  "language_info": {
   "codemirror_mode": {
    "name": "ipython",
    "version": 3
   },
   "file_extension": ".py",
   "mimetype": "text/x-python",
   "name": "python",
   "nbconvert_exporter": "python",
   "pygments_lexer": "ipython3",
   "version": "3.8.12"
  },
  "orig_nbformat": 4
 },
 "nbformat": 4,
 "nbformat_minor": 2
}
